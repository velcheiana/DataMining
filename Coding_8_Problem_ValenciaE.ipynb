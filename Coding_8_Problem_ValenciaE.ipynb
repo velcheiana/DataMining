{
  "nbformat": 4,
  "nbformat_minor": 0,
  "metadata": {
    "colab": {
      "provenance": []
    },
    "kernelspec": {
      "name": "python3",
      "display_name": "Python 3"
    },
    "language_info": {
      "name": "python"
    }
  },
  "cells": [
    {
      "cell_type": "markdown",
      "source": [
        "1. Factorial dengan python"
      ],
      "metadata": {
        "id": "DWtHlG4b2_Pj"
      }
    },
    {
      "cell_type": "code",
      "source": [
        "# Fungsi untuk menghitung factorial dengan python\n",
        "def faktorial(n):\n",
        "    if n == 0 or n == 1:\n",
        "        return 1\n",
        "    else:\n",
        "        return n * faktorial(n - 1)\n",
        "\n",
        "# Contoh penggunaan\n",
        "n = int(input(\"Masukkan angka untuk menghitung faktorial: \"))\n",
        "hasil = faktorial(n)\n",
        "print(f\"Faktorial dari {n} adalah {hasil}\")"
      ],
      "metadata": {
        "colab": {
          "base_uri": "https://localhost:8080/"
        },
        "id": "YN-zI-9K3AHs",
        "outputId": "d9de39e6-dfbd-453b-8b76-e394bfdd8271"
      },
      "execution_count": 2,
      "outputs": [
        {
          "output_type": "stream",
          "name": "stdout",
          "text": [
            "Masukkan angka untuk menghitung faktorial: 5\n",
            "Faktorial dari 5 adalah 120\n"
          ]
        }
      ]
    },
    {
      "cell_type": "markdown",
      "source": [
        "2. Fibonacci dengan python"
      ],
      "metadata": {
        "id": "Kc8e9mjI4WWk"
      }
    },
    {
      "cell_type": "code",
      "source": [
        "# Fungsi untuk fibonacci dengan python\n",
        "def fibonacci(n):\n",
        "    if n <= 0:\n",
        "        return \"Input harus bilangan positif\"\n",
        "    elif n == 1:\n",
        "        return 0\n",
        "    elif n == 2:\n",
        "        return 1\n",
        "    else:\n",
        "        return fibonacci(n - 1) + fibonacci(n - 2)\n",
        "\n",
        "# Contoh penggunaan\n",
        "n = int(input(\"Masukkan angka untuk menghitung deret Fibonacci: \"))\n",
        "hasil = fibonacci(n)\n",
        "print(f\"Bilangan Fibonacci ke-{n} adalah {hasil}\")"
      ],
      "metadata": {
        "colab": {
          "base_uri": "https://localhost:8080/"
        },
        "id": "-mBSkq8O4cW6",
        "outputId": "b0fb5137-c733-4a94-f161-719265de6334"
      },
      "execution_count": 8,
      "outputs": [
        {
          "output_type": "stream",
          "name": "stdout",
          "text": [
            "Masukkan angka untuk menghitung deret Fibonacci: 6\n",
            "Bilangan Fibonacci ke-6 adalah 5\n"
          ]
        }
      ]
    },
    {
      "cell_type": "markdown",
      "source": [
        "3. Menghitung pangkat"
      ],
      "metadata": {
        "id": "psI4rnsx5o6t"
      }
    },
    {
      "cell_type": "code",
      "source": [
        "# Fungsi untuk menghitung pangkat\n",
        "def hitung_pangkat(base, exponent):\n",
        "    # Basis kasus: jika eksponen adalah 0, hasilnya selalu 1\n",
        "    if exponent == 0:\n",
        "        return 1\n",
        "    # Jika eksponen negatif, balikkan pangkat positifnya dan ambil 1/base\n",
        "    elif exponent < 0:\n",
        "        return 1 / hitung_pangkat(base, -exponent)\n",
        "    # Kasus umum: pangkat positif\n",
        "    else:\n",
        "        return base * hitung_pangkat(base, exponent - 1)\n",
        "\n",
        "# Meminta input dari pengguna\n",
        "base = float(input(\"Masukkan nilai base: \"))\n",
        "exponent = int(input(\"Masukkan nilai exponent: \"))\n",
        "\n",
        "# Menghitung hasil pangkat\n",
        "hasil = hitung_pangkat(base, exponent)\n",
        "\n",
        "# Menampilkan hasil\n",
        "print(f\"{base} pangkat {exponent} = {hasil}\")"
      ],
      "metadata": {
        "colab": {
          "base_uri": "https://localhost:8080/"
        },
        "id": "JHp01pabNTgq",
        "outputId": "88ca2d05-bec0-412b-bc3b-4855b888611a"
      },
      "execution_count": 6,
      "outputs": [
        {
          "output_type": "stream",
          "name": "stdout",
          "text": [
            "Masukkan nilai base: 2\n",
            "Masukkan nilai exponent: 3\n",
            "2.0 pangkat 3 = 8.0\n"
          ]
        }
      ]
    },
    {
      "cell_type": "markdown",
      "source": [
        "4. Menghitung perkalian semua elemen dalam array"
      ],
      "metadata": {
        "id": "w-FM0C2CRhRY"
      }
    },
    {
      "cell_type": "code",
      "source": [
        "# Fungsi untuk menghitung hasil perkalian semua elemen dalam array\n",
        "def hitung_perkalian(array):\n",
        "    hasil = 1\n",
        "    for elemen in array:\n",
        "        hasil *= elemen\n",
        "    return hasil\n",
        "\n",
        "# Input array dari pengguna\n",
        "array = list(map(int, input(\"Masukkan elemen-elemen array, pisahkan dengan spasi: \").split()))\n",
        "\n",
        "# Menghitung perkalian semua elemen\n",
        "hasil_perkalian = hitung_perkalian(array)\n",
        "\n",
        "# Menampilkan hasil\n",
        "print(f\"Hasil perkalian semua elemen dalam array adalah: {hasil_perkalian}\")\n"
      ],
      "metadata": {
        "colab": {
          "base_uri": "https://localhost:8080/"
        },
        "id": "23fukDS9RaFx",
        "outputId": "877c6e5e-7416-4707-8c5b-ee27a2b9c55e"
      },
      "execution_count": 3,
      "outputs": [
        {
          "output_type": "stream",
          "name": "stdout",
          "text": [
            "Masukkan elemen-elemen array, pisahkan dengan spasi: 1 2 4 5 6 \n",
            "Hasil perkalian semua elemen dalam array adalah: 240\n"
          ]
        }
      ]
    },
    {
      "cell_type": "markdown",
      "source": [
        "5. Menghitung rata-rata elemen dalam array"
      ],
      "metadata": {
        "id": "DD_x7sZ-RfqV"
      }
    },
    {
      "cell_type": "code",
      "source": [
        "# Fungsi untuk menghitung rata-rata elemen dalam array\n",
        "def hitung_rata_rata(array):\n",
        "    return sum(array) / len(array)\n",
        "\n",
        "# Input array dari pengguna\n",
        "array = list(map(int, input(\"Masukkan elemen-elemen array, pisahkan dengan spasi: \").split()))\n",
        "\n",
        "# Menghitung rata-rata\n",
        "rata_rata = hitung_rata_rata(array)\n",
        "\n",
        "# Menampilkan hasil\n",
        "print(f\"Rata-rata dari elemen-elemen array adalah: {rata_rata}\")"
      ],
      "metadata": {
        "colab": {
          "base_uri": "https://localhost:8080/"
        },
        "id": "hfJFyOLGRrJh",
        "outputId": "ef01bbda-b852-4b55-91d1-f02e4a534886"
      },
      "execution_count": 4,
      "outputs": [
        {
          "output_type": "stream",
          "name": "stdout",
          "text": [
            "Masukkan elemen-elemen array, pisahkan dengan spasi: 2 3 4 5 \n",
            "Rata-rata dari elemen-elemen array adalah: 3.5\n"
          ]
        }
      ]
    },
    {
      "cell_type": "markdown",
      "source": [
        "6. Entrophy dengan Python"
      ],
      "metadata": {
        "id": "5ZE9waJWR_2z"
      }
    },
    {
      "cell_type": "code",
      "source": [
        "import math\n",
        "from collections import Counter\n",
        "\n",
        "def hitung_entropi(data):\n",
        "    # Menghitung frekuensi dari setiap elemen dalam data menggunakan Counter\n",
        "    frekuensi = Counter(data)\n",
        "    # Total elemen dalam data\n",
        "    total_elemen = len(data)\n",
        "\n",
        "    # Inisialisasi variabel entropi\n",
        "    entropi = 0.0\n",
        "\n",
        "    # Iterasi melalui setiap frekuensi elemen\n",
        "    for freq in frekuensi.values():\n",
        "        # Menghitung probabilitas dari setiap elemen\n",
        "        p = freq / total_elemen\n",
        "        # Menggunakan rumus entropi untuk menghitung entropi\n",
        "        entropi -= p * math.log2(p)\n",
        "\n",
        "    return entropi\n",
        "\n",
        "# Contoh penggunaan\n",
        "data = ['A', 'B', 'A', 'C', 'B', 'A', 'B', 'C', 'C', 'C']\n",
        "# Menghitung entropi dari data yang diberikan\n",
        "entropi_data = hitung_entropi(data)\n",
        "\n",
        "# Menampilkan hasil entropi\n",
        "print(f\"Entropi dari data adalah: {entropi_data}\")\n"
      ],
      "metadata": {
        "colab": {
          "base_uri": "https://localhost:8080/"
        },
        "id": "XQ9_bKV5Yh6W",
        "outputId": "e0e17946-a4b2-4457-8280-b8165e35c81d"
      },
      "execution_count": 3,
      "outputs": [
        {
          "output_type": "stream",
          "name": "stdout",
          "text": [
            "Entropi dari data adalah: 1.5709505944546684\n"
          ]
        }
      ]
    },
    {
      "cell_type": "markdown",
      "source": [
        "7. Gini dengan Python"
      ],
      "metadata": {
        "id": "a2U5XQ6ZY2k7"
      }
    },
    {
      "cell_type": "code",
      "source": [
        "def gini_coefficient(data):\n",
        "    # Menghitung jumlah elemen dalam data\n",
        "    n = len(data)\n",
        "    # Jika data kosong, kembalikan koefisien Gini sebagai 0\n",
        "    if n == 0:\n",
        "        return 0\n",
        "\n",
        "    # Mengurutkan data dari yang terkecil ke terbesar\n",
        "    data_sorted = sorted(data)\n",
        "\n",
        "    # Menghitung total pendapatan dari data yang diberikan\n",
        "    total_income = sum(data_sorted)\n",
        "\n",
        "    # Inisialisasi variabel untuk menghitung Gini\n",
        "    cumulative_income = 0  # Pendapatan kumulatif\n",
        "    cumulative_sum = 0      # Jumlah kumulatif pendapatan\n",
        "\n",
        "    # Menghitung total pendapatan kumulatif dan jumlah kumulatif\n",
        "    for i in range(n):\n",
        "        cumulative_income += data_sorted[i]  # Tambahkan pendapatan saat ini ke pendapatan kumulatif\n",
        "        cumulative_sum += cumulative_income   # Tambahkan pendapatan kumulatif ke jumlah kumulatif\n",
        "\n",
        "    # Menghitung koefisien Gini menggunakan rumus yang telah ditentukan\n",
        "    gini = (n + 1 - (2 * cumulative_sum / total_income)) / n\n",
        "    return gini\n",
        "\n",
        "# Contoh penggunaan\n",
        "data = [100, 200, 300, 400, 500]\n",
        "# Menghitung koefisien Gini dari data yang diberikan\n",
        "gini_index = gini_coefficient(data)\n",
        "\n",
        "# Menampilkan hasil koefisien Gini\n",
        "print(f\"Koefisien Gini adalah: {gini_index}\")\n"
      ],
      "metadata": {
        "colab": {
          "base_uri": "https://localhost:8080/"
        },
        "id": "LtkleKASY42j",
        "outputId": "dfe2e90e-979f-4b29-e5f8-f5b0890df362"
      },
      "execution_count": 4,
      "outputs": [
        {
          "output_type": "stream",
          "name": "stdout",
          "text": [
            "Koefisien Gini adalah: 0.2666666666666666\n"
          ]
        }
      ]
    },
    {
      "cell_type": "markdown",
      "source": [
        "8. Classification Error dengan Python"
      ],
      "metadata": {
        "id": "FgTJtQNuY87w"
      }
    },
    {
      "cell_type": "code",
      "source": [
        "def classification_error(y_true, y_pred):\n",
        "    # Memastikan jumlah elemen di y_true dan y_pred sama\n",
        "    assert len(y_true) == len(y_pred), \"Panjang prediksi dan label sebenarnya harus sama\"\n",
        "\n",
        "    # Menghitung jumlah prediksi yang salah dengan menggunakan komprehensi list\n",
        "    salah = sum(1 for true, pred in zip(y_true, y_pred) if true != pred)\n",
        "\n",
        "    # Menghitung tingkat kesalahan (error rate)\n",
        "    error_rate = salah / len(y_true)\n",
        "    return error_rate\n",
        "\n",
        "# Contoh penggunaan\n",
        "y_true = [1, 0, 1, 1, 0, 0, 1]  # Label sebenarnya\n",
        "y_pred = [1, 0, 0, 1, 0, 1, 1]  # Prediksi model\n",
        "\n",
        "# Menghitung error classification menggunakan fungsi\n",
        "error = classification_error(y_true, y_pred)\n",
        "# Menampilkan hasil tingkat kesalahan dengan format dua desimal\n",
        "print(f\"Classification Error: {error:.2f}\")\n"
      ],
      "metadata": {
        "colab": {
          "base_uri": "https://localhost:8080/"
        },
        "id": "sgg1B9jdH7E_",
        "outputId": "27503632-c24b-4c35-ef87-40c79c56985c"
      },
      "execution_count": 5,
      "outputs": [
        {
          "output_type": "stream",
          "name": "stdout",
          "text": [
            "Classification Error: 0.29\n"
          ]
        }
      ]
    }
  ]
}